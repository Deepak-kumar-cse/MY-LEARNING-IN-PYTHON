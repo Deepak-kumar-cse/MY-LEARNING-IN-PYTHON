{
 "cells": [
  {
   "cell_type": "markdown",
   "id": "8dc8a9ea-372c-4732-957d-77916e49506f",
   "metadata": {},
   "source": [
    "Q1. Which keyword is used to create a function? Create a function to return a list of odd \n",
    "numbers in the range of 1 to 25."
   ]
  },
  {
   "cell_type": "markdown",
   "id": "95cf892a-d0a0-44a8-b411-ba6bef723d9d",
   "metadata": {},
   "source": [
    "Ans :- 'def' keyword is used to create a function."
   ]
  },
  {
   "cell_type": "code",
   "execution_count": 1,
   "id": "c19ee919-80e2-46f9-a07a-1cea2a65b962",
   "metadata": {},
   "outputs": [
    {
     "name": "stdout",
     "output_type": "stream",
     "text": [
      "[1, 3, 5, 7, 9, 11, 13, 15, 17, 19, 21, 23, 25]\n"
     ]
    }
   ],
   "source": [
    "def get_odd_numbers():\n",
    "    odd_numbers = []\n",
    "    for i in range(1, 26):\n",
    "        if i % 2 != 0:\n",
    "            odd_numbers.append(i)\n",
    "    return odd_numbers\n",
    "\n",
    "odd_numbers_list = get_odd_numbers()\n",
    "print(odd_numbers_list)"
   ]
  },
  {
   "cell_type": "markdown",
   "id": "8ceead7f-24a5-4744-9758-17e94b96350b",
   "metadata": {},
   "source": [
    "Q2. Why *args and **kwargs is used in some functions? Create a function each for *args and **kwargs\n",
    "to demonstrate their use."
   ]
  },
  {
   "cell_type": "markdown",
   "id": "9685dbf7-b35c-4e62-89eb-5ae015b6ab9d",
   "metadata": {},
   "source": [
    "Ans :- '*args' and '**kwargs' are used in Python functions to handle a variable number of arguments that a function can accept. \n",
    "\n",
    "1. *args (Arbitrary Arguments): It allows a function to accept any number of positional arguments.\n",
    "    Arguments passed using \"*args\" are collected into a tuple within the function.\n",
    "    For example :- "
   ]
  },
  {
   "cell_type": "code",
   "execution_count": 2,
   "id": "4606be9f-fe84-4f6d-b269-d2df95f3f54a",
   "metadata": {},
   "outputs": [
    {
     "name": "stdout",
     "output_type": "stream",
     "text": [
      "60\n"
     ]
    }
   ],
   "source": [
    "def sum_numbers(*args):\n",
    "    total = 0\n",
    "    for num in args:\n",
    "        total += num\n",
    "    return total\n",
    "\n",
    "result = sum_numbers(10, 20, 30)\n",
    "print(result) \n"
   ]
  },
  {
   "cell_type": "markdown",
   "id": "eb0eb8a8-59bc-4e0b-b7c5-414d9813dcc5",
   "metadata": {},
   "source": [
    "2. \"**kwargs\" (Keyword Arguments):- It allows a function to accept any number of keyword arguments as a dictionary.Arguments passed using **kwargs are collected into a dictionary within the function.\n",
    "For example:- "
   ]
  },
  {
   "cell_type": "code",
   "execution_count": 3,
   "id": "07024a15-7f9a-4a9c-9d87-8bddac2d7407",
   "metadata": {},
   "outputs": [
    {
     "name": "stdout",
     "output_type": "stream",
     "text": [
      "name: Deepak\n",
      "age: 25\n",
      "country: India\n"
     ]
    }
   ],
   "source": [
    "def print_info(**kwargs):\n",
    "    for key, value in kwargs.items():\n",
    "        print(f\"{key}: {value}\")\n",
    "\n",
    "print_info(name=\"Deepak\", age=25, country=\"India\")"
   ]
  },
  {
   "cell_type": "markdown",
   "id": "c85c0a0f-423d-484b-a4e0-4acfa0ff4656",
   "metadata": {},
   "source": [
    "Q3. What is an iterator in python? Name the method used to initialise the iterator object and the method\n",
    "used for iteration. Use these methods to print the first five elements of the given list [2, 4, 6, 8, 10, 12, 14,16, 18, 20]."
   ]
  },
  {
   "cell_type": "markdown",
   "id": "f97239e0-130f-4927-863e-9093472aa7e1",
   "metadata": {},
   "source": [
    "Ans:- An iterator in Python is an object that allows iteration over a sequence of items, one at a time. It provides two methods: \"__iter__()\" to initialize the iterator object and \"__next__()\" to retrieve the next element in the sequence. The \"__next__()\" method raises the StopIteration exception when there are no more items to iterate.\n",
    "\n",
    "To print the first five elements of the given list [2, 4, 6, 8, 10, 12, 14, 16, 18, 20], we can use the \"iter()\" function to create an iterator and then use a loop to iterate and print the elements:-"
   ]
  },
  {
   "cell_type": "code",
   "execution_count": 4,
   "id": "3ca5901d-3f11-4004-a979-f6c5d2868028",
   "metadata": {},
   "outputs": [
    {
     "name": "stdout",
     "output_type": "stream",
     "text": [
      "2\n",
      "4\n",
      "6\n",
      "8\n",
      "10\n"
     ]
    }
   ],
   "source": [
    "my_list = [2, 4, 6, 8, 10, 12, 14, 16, 18, 20]\n",
    "my_iterator = iter(my_list)\n",
    "\n",
    "for _ in range(5):\n",
    "    print(next(my_iterator))\n"
   ]
  },
  {
   "cell_type": "markdown",
   "id": "821cdd6b-38b5-4365-971d-01c777202a8e",
   "metadata": {},
   "source": [
    "Q4. What is a generator function in python? Why yield keyword is used? Give an example of a generator\n",
    "function."
   ]
  },
  {
   "cell_type": "markdown",
   "id": "c5b62eaa-75b3-4792-9592-d45a62f850e2",
   "metadata": {},
   "source": [
    "Ans :- A generator function in Python is used to create an iterator that generates values lazily. It uses the \"yield\" keyword to produce values one at a time. This conserves memory and allows for efficient processing of large datasets.\n",
    "\n",
    "The \"yield\" keyword is used to temporarily pause the function's execution and yield a value to the caller. When the next value is requested, the function resumes from where it was paused.\n",
    "\n",
    "Example:- "
   ]
  },
  {
   "cell_type": "code",
   "execution_count": 5,
   "id": "85f07389-d88b-4b8d-9b22-e5929c93011a",
   "metadata": {},
   "outputs": [
    {
     "name": "stdout",
     "output_type": "stream",
     "text": [
      "1\n",
      "2\n",
      "3\n",
      "4\n",
      "5\n"
     ]
    }
   ],
   "source": [
    "def count_up_to(limit):\n",
    "    num = 1\n",
    "    while num <= limit:\n",
    "        yield num\n",
    "        num += 1\n",
    "\n",
    "# Create a generator object\n",
    "counter = count_up_to(5)\n",
    "\n",
    "# Iterate and print values\n",
    "for num in counter:\n",
    "    print(num)\n",
    "    \n",
    "# The \"count_up_to()\" generator function yields numbers up to the specified limit.\n",
    "# The use of \"yield allows\" values to be generated on-the-fly, making it memory-efficient for iterating over a sequence.'''"
   ]
  },
  {
   "cell_type": "markdown",
   "id": "4c3cd799-13dc-4386-9ff3-04cbd3a9a059",
   "metadata": {},
   "source": [
    "Q5. Create a generator function for prime numbers less than 1000. Use the next() method to print the first 20 prime numbers."
   ]
  },
  {
   "cell_type": "code",
   "execution_count": 6,
   "id": "4ebf82df-bc40-414e-a280-37d592bce0f6",
   "metadata": {},
   "outputs": [
    {
     "name": "stdout",
     "output_type": "stream",
     "text": [
      "2\n",
      "3\n",
      "5\n",
      "7\n",
      "11\n",
      "13\n",
      "17\n",
      "19\n",
      "23\n",
      "29\n",
      "31\n",
      "37\n",
      "41\n",
      "43\n",
      "47\n",
      "53\n",
      "59\n",
      "61\n",
      "67\n",
      "71\n"
     ]
    }
   ],
   "source": [
    "#Ans :-\n",
    "def is_prime(num):\n",
    "    if num <= 1:\n",
    "        return False\n",
    "    for i in range(2, int(num ** 0.5) + 1):\n",
    "        if num % i == 0:\n",
    "            return False\n",
    "    return True\n",
    "\n",
    "def generate_primes(limit):\n",
    "    num = 2\n",
    "    while num < limit:\n",
    "        if is_prime(num):\n",
    "            yield num\n",
    "        num += 1\n",
    "\n",
    "prime_generator = generate_primes(1000)\n",
    "\n",
    "for _ in range(20):\n",
    "    print(next(prime_generator))\n"
   ]
  },
  {
   "cell_type": "markdown",
   "id": "f4802dba-81ed-486e-a7f2-6075af47bd61",
   "metadata": {},
   "source": [
    "Q6. Write a python program to print the first 10 Fibonacci numbers using a while loop."
   ]
  },
  {
   "cell_type": "markdown",
   "id": "15d13afc-2149-44c7-9b54-46b108455325",
   "metadata": {},
   "source": [
    "Ans :-"
   ]
  },
  {
   "cell_type": "code",
   "execution_count": 7,
   "id": "27049505-b98f-4c13-9f92-86a17221b4ae",
   "metadata": {},
   "outputs": [
    {
     "name": "stdout",
     "output_type": "stream",
     "text": [
      "0 1 1 2 3 5 8 13 21 34 \n"
     ]
    }
   ],
   "source": [
    "# Initialize the first two Fibonacci numbers\n",
    "a, b = 0, 1\n",
    "\n",
    "# Counter to keep track of the number of Fibonacci numbers printed\n",
    "count = 0\n",
    "\n",
    "# While loop to print the first 10 Fibonacci numbers\n",
    "while count < 10:\n",
    "    print(a, end=\" \")\n",
    "\n",
    "    # Update values of a and b to generate the next Fibonacci number\n",
    "    a, b = b, a + b\n",
    "\n",
    "    # Increment the counter\n",
    "    count += 1\n",
    "\n",
    "print()  # Print a newline after the loop\n"
   ]
  },
  {
   "cell_type": "markdown",
   "id": "4ff8458b-55c6-4f4c-976e-0da50314d1a2",
   "metadata": {},
   "source": [
    "Q7. Write a List Comprehension to iterate through the given string: ‘pwskills’.\n",
    "Expected output: ['p', 'w', 's', 'k', 'i', 'l', 'l', 's']"
   ]
  },
  {
   "cell_type": "code",
   "execution_count": 8,
   "id": "5841a9a1-189d-466f-958a-fb126d6268e4",
   "metadata": {},
   "outputs": [
    {
     "name": "stdout",
     "output_type": "stream",
     "text": [
      "['p', 'w', 's', 'k', 'i', 'l', 'l', 's']\n"
     ]
    }
   ],
   "source": [
    "#Ans :- \n",
    "\n",
    "input_string = 'pwskills'\n",
    "output_list = [char for char in input_string if char in 'pwskills']\n",
    "print(output_list)\n"
   ]
  },
  {
   "cell_type": "markdown",
   "id": "9ac8705b-3161-413f-8344-5122d643ac9d",
   "metadata": {},
   "source": [
    "Q8. Write a python program to check whether a given number is Palindrome or not using a while loop."
   ]
  },
  {
   "cell_type": "code",
   "execution_count": 9,
   "id": "7b4cef93-be16-4052-bd15-c6059ad13803",
   "metadata": {},
   "outputs": [
    {
     "name": "stdin",
     "output_type": "stream",
     "text": [
      "Enter a number:  5\n"
     ]
    },
    {
     "name": "stdout",
     "output_type": "stream",
     "text": [
      "5 is a palindrome\n"
     ]
    }
   ],
   "source": [
    "#Ans :- \n",
    "def is_palindrome(number):\n",
    "    original_number = number\n",
    "    reversed_number = 0\n",
    "    \n",
    "    while number > 0:\n",
    "        digit = number % 10\n",
    "        reversed_number = reversed_number * 10 + digit\n",
    "        number //= 10\n",
    "    \n",
    "    return original_number == reversed_number\n",
    "\n",
    "# Get input from the user\n",
    "num = int(input(\"Enter a number: \"))\n",
    "\n",
    "if is_palindrome(num):\n",
    "    print(num, \"is a palindrome\")\n",
    "else:\n",
    "    print(num, \"is not a palindrome\")\n"
   ]
  },
  {
   "cell_type": "markdown",
   "id": "dc7a4280-01d3-4f68-9ef4-5f7179aed7d0",
   "metadata": {},
   "source": [
    "Q9. Write a code to print odd numbers from 1 to 100 using list comprehension.\n",
    "Note: Use a list comprehension to create a list from 1 to 100 and use another List comprehension to filter out odd numbers."
   ]
  },
  {
   "cell_type": "code",
   "execution_count": 10,
   "id": "3beb1e2d-bd68-4841-afa3-2a7839de062b",
   "metadata": {},
   "outputs": [
    {
     "name": "stdout",
     "output_type": "stream",
     "text": [
      "[1, 3, 5, 7, 9, 11, 13, 15, 17, 19, 21, 23, 25, 27, 29, 31, 33, 35, 37, 39, 41, 43, 45, 47, 49, 51, 53, 55, 57, 59, 61, 63, 65, 67, 69, 71, 73, 75, 77, 79, 81, 83, 85, 87, 89, 91, 93, 95, 97, 99]\n"
     ]
    }
   ],
   "source": [
    "# Using list comprehension to create a list from 1 to 100\n",
    "numbers = [num for num in range(1, 101)]\n",
    "\n",
    "# Using another list comprehension to filter out odd numbers\n",
    "odd_numbers = [num for num in numbers if num % 2 != 0]\n",
    "\n",
    "print(odd_numbers)\n"
   ]
  },
  {
   "cell_type": "code",
   "execution_count": null,
   "id": "f4054700-6e7a-4e62-b6f3-5e4576e855d7",
   "metadata": {},
   "outputs": [],
   "source": []
  }
 ],
 "metadata": {
  "kernelspec": {
   "display_name": "Python 3 (ipykernel)",
   "language": "python",
   "name": "python3"
  },
  "language_info": {
   "codemirror_mode": {
    "name": "ipython",
    "version": 3
   },
   "file_extension": ".py",
   "mimetype": "text/x-python",
   "name": "python",
   "nbconvert_exporter": "python",
   "pygments_lexer": "ipython3",
   "version": "3.10.8"
  }
 },
 "nbformat": 4,
 "nbformat_minor": 5
}
