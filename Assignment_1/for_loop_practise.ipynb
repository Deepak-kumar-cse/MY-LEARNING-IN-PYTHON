{
 "cells": [
  {
   "cell_type": "markdown",
   "id": "2f7087f1-67d1-4a61-b9f0-3636c5fa1472",
   "metadata": {},
   "source": [
    "Q1. Explain with an example each when to use a for loop and a while loop."
   ]
  },
  {
   "cell_type": "markdown",
   "id": "5846b54b-bd5e-44b7-bae8-08002cd9cfec",
   "metadata": {},
   "source": [
    "Ans. (i) For Loop:-\n",
    "A for loop is used when we want to iterate over a sequence of elements (like a list, tuple, string, etc.) a predetermined number of times. It's particularly useful when we know how many iterations are needed.\n",
    "\n",
    "for Example :- We have a list of numbers and we want to calculate the sum of all the numbers in  the list using a for loop.\n"
   ]
  },
  {
   "cell_type": "code",
   "execution_count": 1,
   "id": "6bd5b64e-c123-4e00-8462-ed3a95a62aa4",
   "metadata": {},
   "outputs": [
    {
     "name": "stdout",
     "output_type": "stream",
     "text": [
      "28\n"
     ]
    }
   ],
   "source": [
    "numbers = [2, 5, 8, 10, 3]\n",
    "sum_of_numbers = 0\n",
    "\n",
    "for i in numbers:\n",
    "    sum_of_numbers = sum_of_numbers + i\n",
    "print(sum_of_numbers)"
   ]
  },
  {
   "cell_type": "markdown",
   "id": "c6a66fec-d1df-4d1c-9634-11642329dce8",
   "metadata": {},
   "source": [
    "(ii) While Loop:-\n",
    "A while loop is used when we want to repeat a set of instructions as long as a certain condition is met. It's particularly useful when we don't know beforehand how many iterations will be needed.\n",
    "for example:- Counting down from 5 to 1 using a while loop"
   ]
  },
  {
   "cell_type": "code",
   "execution_count": 2,
   "id": "1efe63a4-1756-408a-a369-bdb26161fc3a",
   "metadata": {},
   "outputs": [
    {
     "name": "stdout",
     "output_type": "stream",
     "text": [
      "5\n",
      "4\n",
      "3\n",
      "2\n",
      "1\n"
     ]
    }
   ],
   "source": [
    "count = 5\n",
    "while count > 0:\n",
    "    print(count)\n",
    "    count -= 1\n"
   ]
  },
  {
   "cell_type": "markdown",
   "id": "30e701b6-8a61-4fc9-a1fa-c66253a69fd2",
   "metadata": {},
   "source": [
    "Q2. Write a python program to print the sum and product of the first 10 natural numbers using for\n",
    "and while loop."
   ]
  },
  {
   "cell_type": "code",
   "execution_count": 3,
   "id": "2b2a209d-a154-4a09-8255-4eae91a0d480",
   "metadata": {},
   "outputs": [
    {
     "name": "stdout",
     "output_type": "stream",
     "text": [
      "Sum of the first 10 natural numbers: 55\n",
      "Product of the first 10 natural numbers: 3628800\n"
     ]
    }
   ],
   "source": [
    "# ANS:- for loop to calculate sum and product\n",
    "sum_of_numbers = 0\n",
    "product_of_numbers = 1\n",
    "\n",
    "for i in range(1, 11):\n",
    "    sum_of_numbers += i\n",
    "    product_of_numbers *= i\n",
    "\n",
    "print(\"Sum of the first 10 natural numbers:\", sum_of_numbers)\n",
    "print(\"Product of the first 10 natural numbers:\", product_of_numbers)\n"
   ]
  },
  {
   "cell_type": "code",
   "execution_count": 4,
   "id": "aea55bba-a0c4-4776-b3e7-51f80e6d0810",
   "metadata": {},
   "outputs": [
    {
     "name": "stdout",
     "output_type": "stream",
     "text": [
      "Sum of the first 10 natural numbers: 55\n",
      "Product of the first 10 natural numbers: 3628800\n"
     ]
    }
   ],
   "source": [
    "# ANS:- while loop to calculate sum and product\n",
    "sum_of_numbers = 0\n",
    "product_of_numbers = 1\n",
    "count = 1\n",
    "\n",
    "while count <= 10:\n",
    "    sum_of_numbers += count\n",
    "    product_of_numbers *= count\n",
    "    count += 1\n",
    "\n",
    "print(\"Sum of the first 10 natural numbers:\", sum_of_numbers)\n",
    "print(\"Product of the first 10 natural numbers:\", product_of_numbers)\n"
   ]
  },
  {
   "cell_type": "markdown",
   "id": "381f4148-806d-4a7d-8171-6c5a5957487a",
   "metadata": {},
   "source": [
    "Q3. Create a python program to compute the electricity bill for a household.\n",
    "The per-unit charges in rupees are as follows: For the first 100 units, the user will be charged Rs. 4.5 per unit, for the next 100 units, the user will be charged Rs. 6 per unit, and for the next 100 units, the user will be charged Rs. 10 per unit, After 300 units and above the user will be charged Rs. 20 per unit.\n",
    "You are required to take the units of electricity consumed in a month from the user as input.\n",
    "Your program must pass this test case: when the unit of electricity consumed by the user in a month is 310, the total electricity bill should be 2250."
   ]
  },
  {
   "cell_type": "code",
   "execution_count": 5,
   "id": "ced8df46-2124-4d49-993d-ed6a5189f7f6",
   "metadata": {},
   "outputs": [
    {
     "name": "stdin",
     "output_type": "stream",
     "text": [
      "Enter the units of electricity consumed:  500\n"
     ]
    },
    {
     "name": "stdout",
     "output_type": "stream",
     "text": [
      "Total electricity bill: 6050.0 rupees\n"
     ]
    }
   ],
   "source": [
    "# ANS:-\n",
    "units_consumed = int(input(\"Enter the units of electricity consumed: \"))\n",
    "total_bill = 0\n",
    "\n",
    "if units_consumed <= 100:\n",
    "    total_bill = units_consumed * 4.5\n",
    "elif units_consumed <= 200:\n",
    "    total_bill = 100 * 4.5 + (units_consumed - 100) * 6\n",
    "elif units_consumed <= 300:\n",
    "    total_bill = 100 * 4.5 + 100 * 6 + (units_consumed - 200) * 10\n",
    "else:\n",
    "    total_bill = 100 * 4.5 + 100 * 6 + 100 * 10 + (units_consumed - 300) * 20\n",
    "\n",
    "print(\"Total electricity bill:\", total_bill, \"rupees\")"
   ]
  },
  {
   "cell_type": "markdown",
   "id": "c32f3f6c-fc42-45b0-a6eb-8c4cad893159",
   "metadata": {},
   "source": [
    "Q4. Create a list of numbers from 1 to 100. Use for loop and while loop to calculate the cube of each number and if the cube of that number is divisible by 4 or 5 then append that number in a list and print that list."
   ]
  },
  {
   "cell_type": "code",
   "execution_count": 6,
   "id": "5f899865-5c5e-4c4c-a584-fb7fb91e6ee3",
   "metadata": {},
   "outputs": [
    {
     "name": "stdout",
     "output_type": "stream",
     "text": [
      "[2, 4, 5, 6, 8, 10, 12, 14, 15, 16, 18, 20, 22, 24, 25, 26, 28, 30, 32, 34, 35, 36, 38, 40, 42, 44, 45, 46, 48, 50, 52, 54, 55, 56, 58, 60, 62, 64, 65, 66, 68, 70, 72, 74, 75, 76, 78, 80, 82, 84, 85, 86, 88, 90, 92, 94, 95, 96, 98, 100]\n"
     ]
    }
   ],
   "source": [
    "#ANS :- \n",
    "# Using a for loop\n",
    "numbers = list(range(1, 101))\n",
    "cubes_divisible_by_4_or_5 = []\n",
    "\n",
    "for num in numbers:\n",
    "    cube = num ** 3\n",
    "    if cube % 4 == 0 or cube % 5 == 0:\n",
    "        cubes_divisible_by_4_or_5.append(num)\n",
    "\n",
    "print(cubes_divisible_by_4_or_5)\n"
   ]
  },
  {
   "cell_type": "code",
   "execution_count": 7,
   "id": "42a4a2b6-d798-4513-93b6-7173a77b9227",
   "metadata": {},
   "outputs": [
    {
     "name": "stdout",
     "output_type": "stream",
     "text": [
      "[2, 4, 5, 6, 8, 10, 12, 14, 15, 16, 18, 20, 22, 24, 25, 26, 28, 30, 32, 34, 35, 36, 38, 40, 42, 44, 45, 46, 48, 50, 52, 54, 55, 56, 58, 60, 62, 64, 65, 66, 68, 70, 72, 74, 75, 76, 78, 80, 82, 84, 85, 86, 88, 90, 92, 94, 95, 96, 98, 100]\n"
     ]
    }
   ],
   "source": [
    "# Using a while loop\n",
    "numbers = list(range(1, 101))\n",
    "cubes_divisible_by_4_or_5 = []\n",
    "index = 0\n",
    "\n",
    "while index < len(numbers):\n",
    "    num = numbers[index]\n",
    "    cube = num ** 3\n",
    "    if cube % 4 == 0 or cube % 5 == 0:\n",
    "        cubes_divisible_by_4_or_5.append(num)\n",
    "    index += 1\n",
    "\n",
    "print(cubes_divisible_by_4_or_5)\n"
   ]
  },
  {
   "cell_type": "markdown",
   "id": "fdd78004-a719-467d-82f3-205657791153",
   "metadata": {},
   "source": [
    "Q5. Write a program to filter count vowels in the below-given string.\n",
    "string = \"I want to become a data scientist\""
   ]
  },
  {
   "cell_type": "code",
   "execution_count": 8,
   "id": "b3952222-dc3a-42d6-a3fa-e5236bb05bc4",
   "metadata": {},
   "outputs": [
    {
     "name": "stdout",
     "output_type": "stream",
     "text": [
      "Number of vowels in the string: 12\n"
     ]
    }
   ],
   "source": [
    "#ANS:-\n",
    "string = \"I want to become a data scientist\"\n",
    "vowels = \"AEIOUaeiou\"  # List of vowels\n",
    "vowel_count = 0\n",
    "\n",
    "for char in string:\n",
    "    if char in vowels:\n",
    "        vowel_count =vowel_count + 1\n",
    "\n",
    "print(\"Number of vowels in the string:\", vowel_count)\n"
   ]
  },
  {
   "cell_type": "code",
   "execution_count": null,
   "id": "7431bc67-80ee-4625-9d81-5e09c83ada6d",
   "metadata": {},
   "outputs": [],
   "source": []
  }
 ],
 "metadata": {
  "kernelspec": {
   "display_name": "Python 3 (ipykernel)",
   "language": "python",
   "name": "python3"
  },
  "language_info": {
   "codemirror_mode": {
    "name": "ipython",
    "version": 3
   },
   "file_extension": ".py",
   "mimetype": "text/x-python",
   "name": "python",
   "nbconvert_exporter": "python",
   "pygments_lexer": "ipython3",
   "version": "3.10.8"
  }
 },
 "nbformat": 4,
 "nbformat_minor": 5
}
